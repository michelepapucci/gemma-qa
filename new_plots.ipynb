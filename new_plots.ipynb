{
 "cells": [
  {
   "cell_type": "code",
   "execution_count": 1,
   "metadata": {},
   "outputs": [],
   "source": [
    "import matplotlib.pyplot as plt\n",
    "import numpy as np\n",
    "import json\n",
    "import math\n",
    "import os"
   ]
  },
  {
   "cell_type": "code",
   "execution_count": 2,
   "metadata": {},
   "outputs": [],
   "source": [
    "def load_json(src_path):\n",
    "    with open(src_path, 'r') as src_file:\n",
    "        output = json.load(src_file)\n",
    "    return output"
   ]
  },
  {
   "cell_type": "code",
   "execution_count": 6,
   "metadata": {},
   "outputs": [],
   "source": [
    "activations_path = 'data/activations/output_20.json'\n",
    "num_components = 16384"
   ]
  },
  {
   "cell_type": "code",
   "execution_count": 8,
   "metadata": {},
   "outputs": [],
   "source": [
    "activations_dict = load_json(activations_path)"
   ]
  },
  {
   "cell_type": "code",
   "execution_count": 9,
   "metadata": {},
   "outputs": [],
   "source": [
    "def vectorize_activations(activations):\n",
    "    activations_vector = np.zeros(num_components)\n",
    "    for idx, act in activations.items():\n",
    "        activations_vector[int(idx)] = act\n",
    "    return activations_vector"
   ]
  },
  {
   "cell_type": "code",
   "execution_count": 30,
   "metadata": {},
   "outputs": [],
   "source": [
    "def aggregate_sentence_activations(sentence_activations, method):\n",
    "    if method == 'or':\n",
    "        return np.column_stack(sentence_activations).any(axis=1).astype(int)\n",
    "    elif method == 'eos':\n",
    "        return [1 if el != 0 else 0 for el in sentence_activations[-1] ]\n",
    "    else:\n",
    "        raise Exception(f'Aggregation method {method} not implemented yet.')"
   ]
  },
  {
   "cell_type": "code",
   "execution_count": 31,
   "metadata": {},
   "outputs": [],
   "source": [
    "def load_activations(activations_dict, aggregation_mehtod='or'):\n",
    "    activations = {'yes':[], 'no':[]}\n",
    "    for sentence_dict in activations_dict.values():\n",
    "        sentence_activations_dict = sentence_dict['step_by_step_non_zero_activations']\n",
    "        sentence_activations = []\n",
    "        for token_activations in sentence_activations_dict:\n",
    "            sentence_activations.append(vectorize_activations(token_activations))\n",
    "        sentence_activations = aggregate_sentence_activations(sentence_activations, aggregation_mehtod)\n",
    "        sentence_label = sentence_dict['truth_label']\n",
    "        activations[sentence_label].append(sentence_activations)\n",
    "    return activations"
   ]
  },
  {
   "cell_type": "code",
   "execution_count": 32,
   "metadata": {},
   "outputs": [],
   "source": [
    "activations = load_activations(activations_dict, aggregation_mehtod='eos')"
   ]
  },
  {
   "cell_type": "code",
   "execution_count": 33,
   "metadata": {},
   "outputs": [],
   "source": [
    "yes_activations = np.sum(activations['yes'], axis=0)/len(activations['yes'])\n",
    "no_activations = np.sum(activations['no'], axis=0)/len(activations['no'])"
   ]
  },
  {
   "cell_type": "code",
   "execution_count": 36,
   "metadata": {},
   "outputs": [
    {
     "name": "stdout",
     "output_type": "stream",
     "text": [
      "9768\n"
     ]
    }
   ],
   "source": [
    "for idx, el in enumerate(yes_activations):\n",
    "    if el > 0.8:\n",
    "        print(idx)"
   ]
  },
  {
   "cell_type": "code",
   "execution_count": 34,
   "metadata": {},
   "outputs": [
    {
     "data": {
      "text/plain": [
       "<matplotlib.collections.PathCollection at 0x7f9de9573910>"
      ]
     },
     "execution_count": 34,
     "metadata": {},
     "output_type": "execute_result"
    },
    {
     "data": {
      "image/png": "[encoded data removed]",
      "text/plain": [
       "<Figure size 640x480 with 1 Axes>"
      ]
     },
     "metadata": {},
     "output_type": "display_data"
    }
   ],
   "source": [
    "plt.scatter(list(yes_activations), list(no_activations))"
   ]
  }
 ],
 "metadata": {
  "kernelspec": {
   "display_name": "venv",
   "language": "python",
   "name": "python3"
  },
  "language_info": {
   "codemirror_mode": {
    "name": "ipython",
    "version": 3
   },
   "file_extension": ".py",
   "mimetype": "text/x-python",
   "name": "python",
   "nbconvert_exporter": "python",
   "pygments_lexer": "ipython3",
   "version": "3.10.12"
  }
 },
 "nbformat": 4,
 "nbformat_minor": 2
}
